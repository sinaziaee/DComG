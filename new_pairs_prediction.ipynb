{
 "cells": [
  {
   "cell_type": "code",
   "execution_count": 2,
   "metadata": {},
   "outputs": [],
   "source": [
    "import numpy as np\n",
    "import pandas as pd\n",
    "import pathlib\n",
    "import os\n",
    "from utils import decoding_drug_ids\n",
    "\n",
    "drug_names = decoding_drug_ids()"
   ]
  },
  {
   "cell_type": "code",
   "execution_count": 4,
   "metadata": {},
   "outputs": [],
   "source": [
    "out_dir = str(pathlib.Path().resolve())\n",
    "out_path = f'{out_dir}/predictions/'\n",
    "\n",
    "all_edges = []\n",
    "number_list = []\n",
    "\n",
    "name_list = os.listdir(out_path)\n",
    "\n",
    "for i, name in enumerate(name_list):\n",
    "    out_file = f'{out_path}{name}'\n",
    "    name = name.replace('.csv', '')\n",
    "    try:\n",
    "        df = pd.read_csv(out_file)\n",
    "        for edge in df.iloc[:, 2:].values:\n",
    "            edge = list(edge)\n",
    "            d1 = drug_names[edge[0]]\n",
    "            d2 = drug_names[edge[1]]\n",
    "            number_list.append(i)\n",
    "            row = [name, edge[0], edge[1], d1, d2]\n",
    "            all_edges.append(row)\n",
    "    except Exception as e:\n",
    "        all_edges.append([name, '-', '-', '-', '-'])\n",
    "        number_list.append(i)\n",
    "\n",
    "all_edges = np.array(all_edges)\n",
    "\n",
    "all_df = pd.DataFrame(number_list, columns=['typeNo'])\n",
    "all_df['model_feature'] = all_edges[:, 0:1]\n",
    "all_df['alias1'] = all_edges[:, 1:2]\n",
    "all_df['alias2'] = all_edges[:, 2:3]\n",
    "all_df['drug1'] = all_edges[:, 3:4]\n",
    "all_df['drug2'] = all_edges[:, 4:5]\n",
    "#############################################################\n",
    "if 'new_edges' not in os.listdir(f'{out_dir}/'):\n",
    "    os.mkdir( f'{out_dir}/new_edges/')\n",
    "#############################################################\n",
    "all_df.to_csv(f'{out_dir}/new_edges/new_ddc.csv', index=False)"
   ]
  },
  {
   "cell_type": "code",
   "execution_count": null,
   "metadata": {},
   "outputs": [],
   "source": []
  }
 ],
 "metadata": {
  "interpreter": {
   "hash": "f51edbcfed46dde0fadb0d95ca63501d46d8e67bef8440c64e8d20599c465dc9"
  },
  "kernelspec": {
   "display_name": "Python 3.8.12 ('pyg')",
   "language": "python",
   "name": "python3"
  },
  "language_info": {
   "codemirror_mode": {
    "name": "ipython",
    "version": 3
   },
   "file_extension": ".py",
   "mimetype": "text/x-python",
   "name": "python",
   "nbconvert_exporter": "python",
   "pygments_lexer": "ipython3",
   "version": "3.8.12"
  },
  "orig_nbformat": 4
 },
 "nbformat": 4,
 "nbformat_minor": 2
}
