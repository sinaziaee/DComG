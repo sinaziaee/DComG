{
 "cells": [
  {
   "cell_type": "code",
   "execution_count": 1,
   "metadata": {},
   "outputs": [],
   "source": [
    "from splitters import k_fold_edge_split\n",
    "from dataset_loader import load_dataframes\n",
    "from model import Net\n",
    "from utils import train_model, device_finder, train_model_on_folds, predict_edges, plot_layers_curve, plot_comparison\n",
    "import warnings\n",
    "from sklearn.decomposition import PCA\n",
    "from sklearn.preprocessing import StandardScaler, MinMaxScaler\n",
    "from torch_geometric.transforms import LocalDegreeProfile\n",
    "import os\n",
    "import torch\n",
    "from torch_geometric.data import Data\n",
    "import numpy as np\n",
    "\n",
    "import pandas as pd\n",
    "import seaborn as sns\n",
    "import matplotlib.pyplot as plt\n",
    "\n",
    "import pathlib\n",
    "\n",
    "warnings.simplefilter(action='ignore', category=FutureWarning)\n",
    "\n",
    "final_dt_df, final_w2v_df, final_nv_df, final_fin_df, final_in_df, final_se_df, all_df = load_dataframes()"
   ]
  },
  {
   "cell_type": "code",
   "execution_count": 2,
   "metadata": {},
   "outputs": [],
   "source": [
    "out_dir = str(pathlib.Path().resolve())\n",
    "out_path = f'{out_dir}/datasets/dcdb.csv'\n",
    "\n",
    "if 'dcdb.csv' not in os.listdir(f'{out_dir}/datasets/'):\n",
    "    src_path = f'{out_dir}/datasets/COMPONENTS.txt'\n",
    "    f = open(src_path, 'r')\n",
    "\n",
    "    csv_1 = []\n",
    "    csv_2 = []\n",
    "\n",
    "    for line in f.readlines():\n",
    "        each = line.split(' ')[0].split('\\t')\n",
    "        csv_1.append(each[0])\n",
    "        csv_2.append(each[1])\n",
    "\n",
    "    print(len(csv_1))\n",
    "    print(len(csv_2))\n",
    "\n",
    "    csv_1 = np.array(csv_1[1:])\n",
    "    csv_2 = np.array(csv_2[1:])\n",
    "\n",
    "    csv_1 = np.reshape(csv_1, (len(csv_1), 1))\n",
    "    csv_2 = np.reshape(csv_2, (len(csv_2), 1))\n",
    "\n",
    "    drug_df = pd.DataFrame(np.concatenate([csv_1, csv_2], axis=1), columns=['drug', 'name'])\n",
    "    drug_df\n",
    "\n",
    "    drug_df.to_csv(out_path, index=False)\n",
    "else:\n",
    "    drug_df = pd.read_csv(out_path)\n",
    "\n",
    "drug_names = dict()\n",
    "\n",
    "for drug in drug_df.values:\n",
    "    drug = list(drug)\n",
    "    drug_names[drug[0]] = drug[1]\n",
    "\n",
    "all_edges = []\n",
    "\n",
    "for edge in all_df.values:\n",
    "    if list(edge) not in all_edges and [edge[1], edge[0]] not in all_edges:\n",
    "        all_edges.append(list(edge))\n",
    "        all_edges.append([edge[1], edge[0]])"
   ]
  },
  {
   "cell_type": "code",
   "execution_count": 3,
   "metadata": {},
   "outputs": [],
   "source": [
    "# loading all edges of undirected graph\n",
    "\n",
    "x_nv = final_nv_df.iloc[:, :128]\n",
    "x_nv = np.array(x_nv, dtype=np.float32)\n",
    "\n",
    "nodes_nv_list = list()\n",
    "nodes_nv_dict = dict()\n",
    "reverse_nv_dict = dict()\n",
    "\n",
    "count = 0\n",
    "for x in final_nv_df.values[:, 128:129]:\n",
    "    nodes_nv_dict[str(x.squeeze())] = count\n",
    "    reverse_nv_dict[count] = str(x.squeeze())\n",
    "    count+=1\n",
    "    nodes_nv_list.append(str(x.squeeze()))\n",
    "\n",
    "edges_nv = list()\n",
    "for edge in all_edges:\n",
    "    if edge[0] in nodes_nv_list and edge[1] in nodes_nv_list:\n",
    "        edges_nv.append([nodes_nv_dict[edge[0]], nodes_nv_dict[edge[1]]])\n",
    "nodes_nv = list(nodes_nv_dict.values())\n",
    "nodes_nv = torch.from_numpy(np.array(nodes_nv))\n",
    "edges_nv = torch.from_numpy(np.array(edges_nv))\n",
    "x_nv = torch.from_numpy(np.array(x_nv))\n",
    "\n",
    "data_nv = Data(x=x_nv, edge_index=edges_nv.T)"
   ]
  },
  {
   "cell_type": "code",
   "execution_count": 4,
   "metadata": {},
   "outputs": [
    {
     "name": "stdout",
     "output_type": "stream",
     "text": [
      "Epoch: 100, Train Loss: 0.477318, Val Auc: 0.972389, Test Auc: 0.975696\n"
     ]
    },
    {
     "data": {
      "image/png": "[encoded data removed]",
      "text/plain": [
       "<Figure size 2160x360 with 3 Axes>"
      ]
     },
     "metadata": {
      "needs_background": "light"
     },
     "output_type": "display_data"
    }
   ],
   "source": [
    "index = 8\n",
    "device = device_finder()\n",
    "learning_rate = 0.0001\n",
    "\n",
    "hid_channels = 128\n",
    "out_channels = 64\n",
    "\n",
    "# Scale data before applying PCA\n",
    "scaling=StandardScaler()\n",
    "df1 = data_nv.x\n",
    "# Use fit and transform method\n",
    "scaling.fit(df1)\n",
    "Scaled_data=scaling.transform(df1)\n",
    "# Set the n_components=3\n",
    "principal=PCA(n_components=32)\n",
    "principal.fit(Scaled_data)\n",
    "x=principal.transform(Scaled_data)\n",
    "# Check the dimensions of data after PCA\n",
    "\n",
    "x = torch.from_numpy(x)\n",
    "x = x.float()\n",
    "data = Data(x=x, edge_index=edges_nv.T)\n",
    "folds = k_fold_edge_split(data, only_upper_triangular_portion=False)\n",
    "\n",
    "device = device_finder()\n",
    "in_channels = folds[0].num_features\n",
    "\n",
    "pca_nv_train_loss, pca_nv_val_auc, pca_nv_test_auc, model, pca_nv_val_aupr, pca_nv_test_aupr, pca_nv_val_fscore, pca_nv_test_fscore = train_model_on_folds(folds=folds, num_epochs=101, index=index, in_channels=in_channels,\n",
    "                                                                                hid_channels=hid_channels, out_channels=out_channels, device=device, model_class=Net, lr=learning_rate, verbose=0)"
   ]
  },
  {
   "cell_type": "code",
   "execution_count": 5,
   "metadata": {},
   "outputs": [
    {
     "name": "stdout",
     "output_type": "stream",
     "text": [
      "max: 12.962407\n",
      "min: -3.6299946\n"
     ]
    }
   ],
   "source": [
    "z = model.encode(folds[0].x, data_nv.edge_index, index=index)\n",
    "final_edge_index, prob_adj = model.decode_all(z)\n",
    "\n",
    "print('max:', prob_adj.max().detach().numpy())\n",
    "print('min:', prob_adj.min().detach().numpy())\n",
    "\n",
    "scaler = MinMaxScaler()\n",
    "prob_adj = prob_adj.detach().numpy()\n",
    "prob_adj = scaler.fit_transform(prob_adj)\n",
    "\n",
    "threshold = 0.95\n",
    "\n",
    "a = np.array(list((prob_adj > threshold).nonzero())).T\n",
    "\n",
    "b = []\n",
    "\n",
    "for e in a:\n",
    "    b.append(list(e))\n",
    "\n",
    "\n",
    "found = 0\n",
    "c_edges = np.array(data_nv.edge_index.T)\n",
    "\n",
    "all_edges = []\n",
    "\n",
    "for e in c_edges:\n",
    "    all_edges.append(list(e))\n",
    "\n",
    "for edge in b:\n",
    "    if edge in all_edges:\n",
    "        found += 1"
   ]
  },
  {
   "cell_type": "code",
   "execution_count": 23,
   "metadata": {},
   "outputs": [
    {
     "data": {
      "text/html": [
       "<div>\n",
       "<style scoped>\n",
       "    .dataframe tbody tr th:only-of-type {\n",
       "        vertical-align: middle;\n",
       "    }\n",
       "\n",
       "    .dataframe tbody tr th {\n",
       "        vertical-align: top;\n",
       "    }\n",
       "\n",
       "    .dataframe thead th {\n",
       "        text-align: right;\n",
       "    }\n",
       "</style>\n",
       "<table border=\"1\" class=\"dataframe\">\n",
       "  <thead>\n",
       "    <tr style=\"text-align: right;\">\n",
       "      <th></th>\n",
       "      <th>alias1</th>\n",
       "      <th>alias2</th>\n",
       "      <th>score</th>\n",
       "      <th>type</th>\n",
       "      <th>drug1</th>\n",
       "      <th>drug2</th>\n",
       "    </tr>\n",
       "  </thead>\n",
       "  <tbody>\n",
       "    <tr>\n",
       "      <th>224769</th>\n",
       "      <td>298</td>\n",
       "      <td>673</td>\n",
       "      <td>1.0</td>\n",
       "      <td>New</td>\n",
       "      <td>Fluoxetine</td>\n",
       "      <td>Riluzole</td>\n",
       "    </tr>\n",
       "    <tr>\n",
       "      <th>12216</th>\n",
       "      <td>16</td>\n",
       "      <td>184</td>\n",
       "      <td>1.0</td>\n",
       "      <td>New</td>\n",
       "      <td>Cytarabine</td>\n",
       "      <td>17-DMAG</td>\n",
       "    </tr>\n",
       "    <tr>\n",
       "      <th>171371</th>\n",
       "      <td>227</td>\n",
       "      <td>667</td>\n",
       "      <td>1.0</td>\n",
       "      <td>New</td>\n",
       "      <td>Hydrochlorothiazide</td>\n",
       "      <td>Azelnidipine</td>\n",
       "    </tr>\n",
       "    <tr>\n",
       "      <th>509642</th>\n",
       "      <td>677</td>\n",
       "      <td>538</td>\n",
       "      <td>1.0</td>\n",
       "      <td>New</td>\n",
       "      <td>Tropisetron</td>\n",
       "      <td>Romiplostim</td>\n",
       "    </tr>\n",
       "    <tr>\n",
       "      <th>509281</th>\n",
       "      <td>677</td>\n",
       "      <td>177</td>\n",
       "      <td>1.0</td>\n",
       "      <td>New</td>\n",
       "      <td>Tropisetron</td>\n",
       "      <td>Valproic</td>\n",
       "    </tr>\n",
       "  </tbody>\n",
       "</table>\n",
       "</div>"
      ],
      "text/plain": [
       "        alias1  alias2  score type                drug1         drug2\n",
       "224769     298     673    1.0  New           Fluoxetine      Riluzole\n",
       "12216       16     184    1.0  New           Cytarabine       17-DMAG\n",
       "171371     227     667    1.0  New  Hydrochlorothiazide  Azelnidipine\n",
       "509642     677     538    1.0  New          Tropisetron   Romiplostim\n",
       "509281     677     177    1.0  New          Tropisetron      Valproic"
      ]
     },
     "execution_count": 23,
     "metadata": {},
     "output_type": "execute_result"
    }
   ],
   "source": [
    "available_edges = []\n",
    "for e in edges_nv:\n",
    "    available_edges.append(list(e.detach().numpy()))\n",
    "\n",
    "all_0 = []\n",
    "all_1 = []\n",
    "all_2 = []\n",
    "\n",
    "for i in range(prob_adj.shape[0]):\n",
    "    for j in range(prob_adj.shape[1]):\n",
    "        if i == j:\n",
    "            prob_adj[i, j] = 0\n",
    "        all_0.append(i)\n",
    "        all_1.append(j)\n",
    "        all_2.append(prob_adj[i, j])\n",
    "\n",
    "all_0 = np.array(all_0)\n",
    "all_1 = np.array(all_1)\n",
    "all_2 = np.array(all_2)\n",
    "\n",
    "all_0 = np.reshape(all_0, (len(all_0), 1))\n",
    "all_1 = np.reshape(all_1, (len(all_1), 1))\n",
    "all_2 = np.reshape(all_2, (len(all_2), 1))\n",
    "\n",
    "all = pd.DataFrame(np.concatenate([all_0, all_1], axis=1), columns=['alias1', 'alias2'])\n",
    "all['score'] = all_2\n",
    "all = all.sort_values('score', ascending=False)\n",
    "\n",
    "temp = all[all['score'] > 1].head(40)\n",
    "\n",
    "import os\n",
    "out_path = '/home/sina/PycharmProjects/vs_code'\n",
    "folder_name = 'prediction'\n",
    "\n",
    "if folder_name not in os.listdir(out_path):\n",
    "    os.mkdir(f'{out_path}/{folder_name}')\n",
    "\n",
    "\n",
    "all_3 = []\n",
    "all_4 = []\n",
    "all_5 = []\n",
    "\n",
    "for row in temp[['alias1', 'alias2']].values:\n",
    "    row = list(row)\n",
    "    if row in available_edges:\n",
    "        all_3.append('Original')\n",
    "    else:\n",
    "        all_3.append('New')\n",
    "    all_4.append(drug_names[reverse_nv_dict[row[0]]])\n",
    "    all_5.append(drug_names[reverse_nv_dict[row[1]]])\n",
    "\n",
    "temp['type'] = all_3\n",
    "temp['drug1'] = all_4\n",
    "temp['drug2'] = all_5\n",
    "\n",
    "temp.to_csv(f'{out_path}/{folder_name}/best.csv')\n",
    "temp[temp['type'] == 'New'].head(10)"
   ]
  },
  {
   "cell_type": "code",
   "execution_count": 26,
   "metadata": {},
   "outputs": [
    {
     "data": {
      "image/png": "[encoded data removed]",
      "text/plain": [
       "<Figure size 432x432 with 1 Axes>"
      ]
     },
     "metadata": {
      "needs_background": "light"
     },
     "output_type": "display_data"
    }
   ],
   "source": [
    "plot_comparison(pca_nv_test_auc[100])"
   ]
  },
  {
   "cell_type": "code",
   "execution_count": 64,
   "metadata": {},
   "outputs": [
    {
     "data": {
      "image/png": "[encoded data removed]",
      "text/plain": [
       "<Figure size 720x432 with 1 Axes>"
      ]
     },
     "metadata": {
      "needs_background": "light"
     },
     "output_type": "display_data"
    }
   ],
   "source": [
    "row_prob_adj = np.reshape(prob_adj, (prob_adj.shape[0]*prob_adj.shape[1], 1))\n",
    "\n",
    "frequency_list = [0 for i in range(0, 11)]\n",
    "range_list = [(i*0.1) for i in range(0, 11)]\n",
    "\n",
    "for each in row_prob_adj:\n",
    "    if each >= 1:\n",
    "        frequency_list[10] += 1\n",
    "    elif each > 0.9:\n",
    "        frequency_list[9] += 1\n",
    "    elif each > 0.8:\n",
    "        frequency_list[8] += 1\n",
    "    elif each > 0.7:\n",
    "        frequency_list[7] += 1\n",
    "    elif each > 0.6:\n",
    "        frequency_list[6] += 1\n",
    "    elif each > 0.5:\n",
    "        frequency_list[5] += 1\n",
    "    elif each > 0.4:\n",
    "        frequency_list[4] += 1\n",
    "    elif each > 0.3:\n",
    "        frequency_list[3] += 1\n",
    "    elif each > 0.2:\n",
    "        frequency_list[2] += 1\n",
    "    elif each > 0.1:\n",
    "        frequency_list[1] += 1\n",
    "    else:\n",
    "        frequency_list[0] += 1\n",
    "\n",
    "plt.figure(figsize=(10, 6))\n",
    "plt.xlim(0, 1)\n",
    "plt.scatter(range_list, frequency_list, c='black')\n",
    "plt.plot(range_list, frequency_list, c='black')\n",
    "plt.grid()\n",
    "plt.xlabel('AUC score')\n",
    "plt.ylabel('frequency')\n",
    "plt.axvline(x=0.9, c='black')\n",
    "plt.axvspan(0.9, 1, facecolor='black', alpha=0.4)\n",
    "plt.title('AUC Score - frequency')\n",
    "\n",
    "plt.show()"
   ]
  },
  {
   "cell_type": "code",
   "execution_count": null,
   "metadata": {},
   "outputs": [],
   "source": []
  }
 ],
 "metadata": {
  "interpreter": {
   "hash": "f51edbcfed46dde0fadb0d95ca63501d46d8e67bef8440c64e8d20599c465dc9"
  },
  "kernelspec": {
   "display_name": "Python 3.8.12 ('pyg')",
   "language": "python",
   "name": "python3"
  },
  "language_info": {
   "codemirror_mode": {
    "name": "ipython",
    "version": 3
   },
   "file_extension": ".py",
   "mimetype": "text/x-python",
   "name": "python",
   "nbconvert_exporter": "python",
   "pygments_lexer": "ipython3",
   "version": "3.8.12"
  },
  "orig_nbformat": 4
 },
 "nbformat": 4,
 "nbformat_minor": 2
}
