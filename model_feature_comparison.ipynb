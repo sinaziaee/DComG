{
 "cells": [
  {
   "cell_type": "markdown",
   "metadata": {},
   "source": [
    "# Loading required dataframes"
   ]
  },
  {
   "cell_type": "code",
   "execution_count": 1,
   "metadata": {},
   "outputs": [],
   "source": [
    "from splitters import k_fold_edge_split, train_test_split_edges\n",
    "from dataset_loader import load_dataframes\n",
    "from model import Net\n",
    "from utils import train_model, device_finder, train_model_on_folds, predict_edges, plot_layers_curve\n",
    "import warnings\n",
    "from sklearn.decomposition import PCA\n",
    "from sklearn.preprocessing import StandardScaler, MinMaxScaler\n",
    "from torch_geometric.transforms import LocalDegreeProfile\n",
    "\n",
    "import torch\n",
    "from torch_geometric.data import Data\n",
    "import numpy as np\n",
    "\n",
    "import pandas as pd\n",
    "import seaborn as sns\n",
    "import matplotlib.pyplot as plt\n",
    "\n",
    "warnings.simplefilter(action='ignore', category=FutureWarning)\n",
    "# final_dt_df -> onehot drug-target     : 760 * 790\n",
    "# final_w2v_df -> word2vec              : 614 * 200\n",
    "# final_nv_df -> node2vec               : 752 * 128\n",
    "# final_fin_df -> drug fingerprint      : 627 * 167\n",
    "# final_in_df -> drug indication        : 383 * 1513\n",
    "# final_se_df -> drug side effect       : 389 * 3256\n",
    "# all_df -> all drug combinations       : 2716 * 2\n",
    "final_dt_df, final_w2v_df, final_nv_df, final_fin_df, final_in_df, final_se_df, all_df = load_dataframes()"
   ]
  },
  {
   "cell_type": "markdown",
   "metadata": {},
   "source": [
    "# Loading All Edges"
   ]
  },
  {
   "cell_type": "code",
   "execution_count": 12,
   "metadata": {},
   "outputs": [
    {
     "name": "stdout",
     "output_type": "stream",
     "text": [
      "(2716, 2)\n",
      "3732\n"
     ]
    }
   ],
   "source": [
    "all_edges = []\n",
    "\n",
    "for edge in all_df.values:\n",
    "    if list(edge) not in all_edges and [edge[1], edge[0]] not in all_edges:\n",
    "        all_edges.append(list(edge))\n",
    "        all_edges.append([edge[1], edge[0]])"
   ]
  },
  {
   "cell_type": "markdown",
   "metadata": {},
   "source": [
    "# Node2Vec"
   ]
  },
  {
   "cell_type": "code",
   "execution_count": 33,
   "metadata": {},
   "outputs": [
    {
     "data": {
      "text/plain": [
       "Data(x=[752, 128], edge_index=[2, 3406])"
      ]
     },
     "execution_count": 33,
     "metadata": {},
     "output_type": "execute_result"
    }
   ],
   "source": [
    "# loading all edges of undirected graph\n",
    "\n",
    "x_nv = final_nv_df.iloc[:, :128]\n",
    "x_nv = np.array(x_nv, dtype=np.float32)\n",
    "\n",
    "nodes_nv_list = list()\n",
    "nodes_nv_dict = dict()\n",
    "\n",
    "count = 0\n",
    "for x in final_nv_df.values[:, 128:129]:\n",
    "    nodes_nv_dict[str(x.squeeze())] = count\n",
    "    count+=1\n",
    "    nodes_nv_list.append(str(x.squeeze()))\n",
    "\n",
    "edges_nv = list()\n",
    "for edge in all_edges:\n",
    "    if edge[0] in nodes_nv_list and edge[1] in nodes_nv_list:\n",
    "        edges_nv.append([nodes_nv_dict[edge[0]], nodes_nv_dict[edge[1]]])\n",
    "nodes_nv = list(nodes_nv_dict.values())\n",
    "nodes_nv = torch.from_numpy(np.array(nodes_nv))\n",
    "edges_nv = torch.from_numpy(np.array(edges_nv))\n",
    "x_nv = torch.from_numpy(np.array(x_nv))\n",
    "\n",
    "data_nv = Data(x=x_nv, edge_index=edges_nv.T)\n",
    "data_nv\n",
    "\n",
    "# raw_data = Data(edge_index=edges_nv.T)\n",
    "# ldp = LocalDegreeProfile()\n",
    "# ldp(raw_data)\n",
    "# raw_data"
   ]
  },
  {
   "cell_type": "markdown",
   "metadata": {},
   "source": [
    "# Word2Vec"
   ]
  },
  {
   "cell_type": "code",
   "execution_count": 40,
   "metadata": {},
   "outputs": [
    {
     "data": {
      "text/plain": [
       "Data(x=[614, 200], edge_index=[2, 2468])"
      ]
     },
     "execution_count": 40,
     "metadata": {},
     "output_type": "execute_result"
    }
   ],
   "source": [
    "# loading all edges of undirected graph\n",
    "\n",
    "x_w2v = final_w2v_df.iloc[:, :200]\n",
    "x_w2v = np.array(x_w2v, dtype=np.float32)\n",
    "\n",
    "nodes_w2v_list = list()\n",
    "nodes_w2v_dict = dict()\n",
    "\n",
    "count = 0\n",
    "for x in final_w2v_df.values[:, 200:201]:\n",
    "    nodes_w2v_dict[str(x.squeeze())] = count\n",
    "    count+=1\n",
    "    nodes_w2v_list.append(str(x.squeeze()))\n",
    "\n",
    "\n",
    "edges_w2v = list()\n",
    "for edge in all_edges:\n",
    "    if edge[0] in nodes_w2v_list and edge[1] in nodes_w2v_list:\n",
    "        edges_w2v.append([nodes_w2v_dict[edge[0]], nodes_w2v_dict[edge[1]]])\n",
    "nodes_w2v = list(nodes_w2v_dict.values())\n",
    "nodes_w2v = torch.from_numpy(np.array(nodes_w2v))\n",
    "edges_w2v = torch.from_numpy(np.array(edges_w2v))\n",
    "x_w2v = torch.from_numpy(np.array(x_w2v))\n",
    "\n",
    "data_w2v = Data(x=x_w2v, edge_index=edges_w2v.T)\n",
    "data_w2v\n",
    "\n",
    "# raw_data = Data(edge_index=edges_w2v.T)\n",
    "# ldp = LocalDegreeProfile()\n",
    "# ldp(raw_data)\n",
    "# raw_data"
   ]
  },
  {
   "cell_type": "markdown",
   "metadata": {},
   "source": [
    "# Side Effect"
   ]
  },
  {
   "cell_type": "code",
   "execution_count": 44,
   "metadata": {},
   "outputs": [
    {
     "data": {
      "text/plain": [
       "Data(x=[389, 3256], edge_index=[2, 1132])"
      ]
     },
     "execution_count": 44,
     "metadata": {},
     "output_type": "execute_result"
    }
   ],
   "source": [
    "# loading all edges of undirected graph\n",
    "\n",
    "x_se = final_se_df.iloc[:, :3256]\n",
    "x_se = np.array(x_se, dtype=np.float32)\n",
    "\n",
    "nodes_se_list = list()\n",
    "nodes_se_dict = dict()\n",
    "\n",
    "count = 0\n",
    "for x in final_se_df.values[:, 3256:3257]:\n",
    "    nodes_se_dict[str(x.squeeze())] = count\n",
    "    count+=1\n",
    "    nodes_se_list.append(str(x.squeeze()))\n",
    "\n",
    "edges_se = list()\n",
    "for edge in all_edges:\n",
    "    if edge[0] in nodes_se_list and edge[1] in nodes_se_list:\n",
    "        edges_se.append([nodes_se_dict[edge[0]], nodes_se_dict[edge[1]]])\n",
    "nodes_se = list(nodes_se_dict.values())\n",
    "nodes_se = torch.from_numpy(np.array(nodes_se))\n",
    "edges_se = torch.from_numpy(np.array(edges_se))\n",
    "x_se = torch.from_numpy(np.array(x_se))\n",
    "\n",
    "data_se = Data(x=x_se, edge_index=edges_se.T)\n",
    "data_se\n",
    "\n",
    "# raw_data = Data(edge_index=edges_se.T)\n",
    "# ldp = LocalDegreeProfile()\n",
    "# ldp(raw_data)\n",
    "# raw_data"
   ]
  },
  {
   "cell_type": "markdown",
   "metadata": {},
   "source": [
    "# Indication"
   ]
  },
  {
   "cell_type": "code",
   "execution_count": 46,
   "metadata": {},
   "outputs": [
    {
     "data": {
      "text/plain": [
       "Data(x=[383, 1513], edge_index=[2, 1120])"
      ]
     },
     "execution_count": 46,
     "metadata": {},
     "output_type": "execute_result"
    }
   ],
   "source": [
    "# loading all edges of undirected graph\n",
    "\n",
    "x_in = final_in_df.iloc[:, :1513]\n",
    "x_in = np.array(x_in, dtype=np.float32)\n",
    "\n",
    "nodes_in_list = list()\n",
    "nodes_in_dict = dict()\n",
    "\n",
    "count = 0\n",
    "for x in final_in_df.values[:, 1513:1514]:\n",
    "    nodes_in_dict[str(x.squeeze())] = count\n",
    "    count+=1\n",
    "    nodes_in_list.append(str(x.squeeze()))\n",
    "\n",
    "edges_in = list()\n",
    "for edge in all_edges:\n",
    "    if edge[0] in nodes_in_list and edge[1] in nodes_in_list:\n",
    "        edges_in.append([nodes_in_dict[edge[0]], nodes_in_dict[edge[1]]])\n",
    "nodes_in = list(nodes_in_dict.values())\n",
    "nodes_in = torch.from_numpy(np.array(nodes_in))\n",
    "edges_in = torch.from_numpy(np.array(edges_in))\n",
    "x_in = torch.from_numpy(np.array(x_in))\n",
    "\n",
    "data_in = Data(x=x_in, edge_index=edges_in.T)\n",
    "data_in\n",
    "\n",
    "# raw_data = Data(edge_index=edges_in.T)\n",
    "# ldp = LocalDegreeProfile()\n",
    "# ldp(raw_data)\n",
    "# raw_data"
   ]
  },
  {
   "cell_type": "markdown",
   "metadata": {},
   "source": [
    "# Finger"
   ]
  },
  {
   "cell_type": "code",
   "execution_count": 48,
   "metadata": {},
   "outputs": [
    {
     "data": {
      "text/plain": [
       "Data(x=[627, 167], edge_index=[2, 2334])"
      ]
     },
     "execution_count": 48,
     "metadata": {},
     "output_type": "execute_result"
    }
   ],
   "source": [
    "# loading all edges of undirected graph\n",
    "\n",
    "x_fin = final_fin_df.iloc[:, :167]\n",
    "x_fin = np.array(x_fin, dtype=np.float32)\n",
    "\n",
    "nodes_fin_list = list()\n",
    "nodes_fin_dict = dict()\n",
    "\n",
    "count = 0\n",
    "for x in final_fin_df.values[:, 167:168]:\n",
    "    nodes_fin_dict[str(x.squeeze())] = count\n",
    "    count+=1\n",
    "    nodes_fin_list.append(str(x.squeeze()))\n",
    "\n",
    "edges_fin = list()\n",
    "for edge in all_edges:\n",
    "    if edge[0] in nodes_fin_list and edge[1] in nodes_fin_list:\n",
    "        edges_fin.append([nodes_fin_dict[edge[0]], nodes_fin_dict[edge[1]]])\n",
    "nodes_fin = list(nodes_fin_dict.values())\n",
    "nodes_fin = torch.from_numpy(np.array(nodes_fin))\n",
    "edges_fin = torch.from_numpy(np.array(edges_fin))\n",
    "x_fin = torch.from_numpy(np.array(x_fin))\n",
    "\n",
    "data_fin = Data(x=x_fin, edge_index=edges_fin.T)\n",
    "data_fin\n",
    "\n",
    "# raw_data = Data(edge_index=edges_fin.T)\n",
    "# ldp = LocalDegreeProfile()\n",
    "# ldp(raw_data)\n",
    "# raw_data"
   ]
  },
  {
   "cell_type": "markdown",
   "metadata": {},
   "source": [
    "# One-hot Drug Target"
   ]
  },
  {
   "cell_type": "code",
   "execution_count": 50,
   "metadata": {},
   "outputs": [
    {
     "data": {
      "text/plain": [
       "Data(x=[760, 790], edge_index=[2, 3206])"
      ]
     },
     "execution_count": 50,
     "metadata": {},
     "output_type": "execute_result"
    }
   ],
   "source": [
    "# loading all edges of undirected graph\n",
    "\n",
    "x_dt = final_dt_df.iloc[:, :790]\n",
    "x_dt = np.array(x_dt, dtype=np.float32)\n",
    "\n",
    "nodes_dt_list = list()\n",
    "nodes_dt_dict = dict()\n",
    "\n",
    "count = 0\n",
    "for x in final_dt_df.values[:, 790:791]:\n",
    "    nodes_dt_dict[str(x.squeeze())] = count\n",
    "    count+=1\n",
    "    nodes_dt_list.append(str(x.squeeze()))\n",
    "\n",
    "edges_dt = list()\n",
    "for edge in all_edges:\n",
    "    if edge[0] in nodes_dt_list and edge[1] in nodes_dt_list:\n",
    "        edges_dt.append([nodes_dt_dict[edge[0]], nodes_dt_dict[edge[1]]])\n",
    "nodes_dt = list(nodes_dt_dict.values())\n",
    "nodes_dt = torch.from_numpy(np.array(nodes_dt))\n",
    "edges_dt = torch.from_numpy(np.array(edges_dt))\n",
    "x_dt = torch.from_numpy(np.array(x_dt))\n",
    "\n",
    "data_dt = Data(x=x_dt, edge_index=edges_dt.T)\n",
    "data_dt\n",
    "\n",
    "# raw_data = Data(edge_index=edges_dt.T)\n",
    "# ldp = LocalDegreeProfile()\n",
    "# ldp(raw_data)\n",
    "# raw_data"
   ]
  },
  {
   "cell_type": "markdown",
   "metadata": {},
   "source": [
    "# Creating graph data"
   ]
  },
  {
   "cell_type": "code",
   "execution_count": 76,
   "metadata": {},
   "outputs": [],
   "source": [
    "def create_graph_data(df):\n",
    "    r_size, c_size = df.shape\n",
    "\n",
    "    x_data = df.iloc[:, :(c_size-2)]\n",
    "    x_data = np.array(x_data, dtype=np.float32)\n",
    "\n",
    "    nodes_data_list = list()\n",
    "    nodes_data_dict = dict()\n",
    "\n",
    "    count = 0\n",
    "    for x in df.values[:, (c_size-2):(c_size-1)]:\n",
    "        nodes_data_dict[str(x.squeeze())] = count\n",
    "        count+=1\n",
    "        nodes_data_list.append(str(x.squeeze()))\n",
    "\n",
    "    edges_data = list()\n",
    "    for edge in all_edges:\n",
    "        if edge[0] in nodes_data_list and edge[1] in nodes_data_list:\n",
    "            edges_data.append([nodes_data_dict[edge[0]], nodes_data_dict[edge[1]]])\n",
    "    nodes_data = list(nodes_data_dict.values())\n",
    "    nodes_data = torch.from_numpy(np.array(nodes_data))\n",
    "    edges_data = torch.from_numpy(np.array(edges_data))\n",
    "    x_data = torch.from_numpy(np.array(x_data))\n",
    "\n",
    "    data = Data(x=x_data, edge_index=edges_data.T)\n",
    "    return data"
   ]
  },
  {
   "cell_type": "code",
   "execution_count": 78,
   "metadata": {},
   "outputs": [
    {
     "name": "stdout",
     "output_type": "stream",
     "text": [
      "Data(x=[760, 790], edge_index=[2, 3206])\n",
      "Data(x=[614, 200], edge_index=[2, 2468])\n",
      "Data(x=[752, 128], edge_index=[2, 3406])\n",
      "Data(x=[627, 167], edge_index=[2, 2334])\n",
      "Data(x=[383, 1513], edge_index=[2, 1120])\n",
      "Data(x=[389, 3256], edge_index=[2, 1132])\n"
     ]
    }
   ],
   "source": [
    "df_list = [final_dt_df, final_w2v_df, final_nv_df, final_fin_df, final_in_df, final_se_df]\n",
    "\n",
    "def create_graph_data_with_different_features(df_list):\n",
    "    for df in df_list:\n",
    "        print(create_graph_data(df))\n",
    "\n",
    "create_graph_data_with_different_features(df_list)"
   ]
  },
  {
   "cell_type": "code",
   "execution_count": null,
   "metadata": {},
   "outputs": [],
   "source": []
  }
 ],
 "metadata": {
  "interpreter": {
   "hash": "f51edbcfed46dde0fadb0d95ca63501d46d8e67bef8440c64e8d20599c465dc9"
  },
  "kernelspec": {
   "display_name": "Python 3.8.12 ('pyg')",
   "language": "python",
   "name": "python3"
  },
  "language_info": {
   "codemirror_mode": {
    "name": "ipython",
    "version": 3
   },
   "file_extension": ".py",
   "mimetype": "text/x-python",
   "name": "python",
   "nbconvert_exporter": "python",
   "pygments_lexer": "ipython3",
   "version": "3.8.12"
  },
  "orig_nbformat": 4
 },
 "nbformat": 4,
 "nbformat_minor": 2
}
