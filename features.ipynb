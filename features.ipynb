{
 "cells": [
  {
   "cell_type": "code",
   "execution_count": 1,
   "metadata": {},
   "outputs": [],
   "source": [
    "import pandas as pd\n",
    "import torch_geometric as tg\n",
    "from torch_geometric.transforms import LocalDegreeProfile\n",
    "from torch_geometric.utils import train_test_split_edges\n",
    "from torch_geometric.utils import negative_sampling\n",
    "from torch_geometric.datasets import Planetoid\n",
    "import torch_geometric.transforms as T\n",
    "from torch_geometric.nn import GCNConv, GINConv\n",
    "from sklearn.metrics import roc_auc_score\n",
    "from torch.nn.functional import binary_cross_entropy_with_logits\n",
    "import matplotlib.pyplot as plt\n",
    "from torch_geometric.transforms import LocalDegreeProfile\n",
    "from torch_geometric.data import Data\n",
    "import numpy as np\n",
    "import torch\n",
    "from sklearn.decomposition import PCA\n",
    "from sklearn.preprocessing import StandardScaler"
   ]
  },
  {
   "cell_type": "code",
   "execution_count": 81,
   "metadata": {},
   "outputs": [],
   "source": [
    "base_path = 'datasets/'\n",
    "\n",
    "ddi_path = f'{base_path}DRUG_INTERACTION_graphFile_withClass.csv'\n",
    "dc_path = f'{base_path}TwoComb.csv'\n",
    "all_path = f'{base_path}AllComb.csv'\n",
    "\n",
    "dt_path = f'{base_path}node_features/Drugs_Targets_Onehot.csv'\n",
    "w2v_path = f'{base_path}node_features/word2vec.csv'\n",
    "sev_path = f'{base_path}node_features/sideEffectVec.csv'\n",
    "iv_path = f'{base_path}node_features/indicationsVec.csv'\n",
    "fin_path = f'{base_path}node_features/Drug_finger.csv'\n",
    "nv_path = f'{base_path}node_features/Node2Vec_DCC.csv'\n",
    "\n",
    "\n",
    "dt_df = pd.read_csv(dt_path)\n",
    "w2v_df = pd.read_csv(w2v_path)\n",
    "all_df = pd.read_csv(all_path)\n",
    "ddi_df = pd.read_csv(ddi_path)\n",
    "se_df = pd.read_csv(sev_path)\n",
    "in_df = pd.read_csv(iv_path)\n",
    "fin_df = pd.read_csv(fin_path)\n",
    "nv_df = pd.read_csv(nv_path)\n",
    "all_df.columns = ['d1', 'd2']"
   ]
  },
  {
   "cell_type": "markdown",
   "metadata": {},
   "source": [
    "## loading unique nodes list and dict"
   ]
  },
  {
   "cell_type": "code",
   "execution_count": 5,
   "metadata": {},
   "outputs": [
    {
     "name": "stdout",
     "output_type": "stream",
     "text": [
      "898\n",
      "898\n"
     ]
    }
   ],
   "source": [
    "drug_list = list()\n",
    "drug_dict = dict()\n",
    "\n",
    "count = 0\n",
    "for edge in all_df.values:\n",
    "    n1 = edge[0]\n",
    "    n2 = edge[1]\n",
    "    if n1 not in drug_list:\n",
    "        drug_list.append(n1)\n",
    "        drug_dict[n1] = count\n",
    "        count+=1\n",
    "    if n2 not in drug_list:\n",
    "        drug_list.append(n2)\n",
    "        drug_dict[n2] = count\n",
    "        count+=1\n",
    "print(len(drug_dict))\n",
    "print(len(drug_dict))"
   ]
  },
  {
   "cell_type": "markdown",
   "metadata": {},
   "source": [
    "## loading nodes with w2v features"
   ]
  },
  {
   "cell_type": "code",
   "execution_count": 98,
   "metadata": {},
   "outputs": [],
   "source": [
    "temp_drugs = []\n",
    "temp_vector = []\n",
    "temp_drugs_no = []\n",
    "for each in w2v_df.values:\n",
    "    drug = each[0]\n",
    "    str_vector = [num for num in str(each[1]).replace('[', '').replace(']', '').replace('\\n', '').split(' ')]\n",
    "    vector = []\n",
    "    for num in str_vector:\n",
    "        if num != '':\n",
    "            vector.append(float(num))\n",
    "    temp_drugs.append(drug)\n",
    "    temp_vector.append(vector)\n",
    "    temp_drugs_no.append(drug_dict[drug])\n",
    "\n",
    "t = pd.DataFrame(temp_vector)\n",
    "t.columns = [f'c{i}' for i in range(1, len(temp_vector[0])+1)]\n",
    "t['drugs'] = pd.DataFrame(temp_drugs)\n",
    "t['drugsNo'] = pd.DataFrame(temp_drugs_no)\n",
    "t = t.sort_values('drugsNo')\n",
    "t.index = t.drugsNo\n",
    "final_w2v_df = t.copy(deep=True)"
   ]
  },
  {
   "cell_type": "markdown",
   "metadata": {},
   "source": [
    "## loading nodes with finger features"
   ]
  },
  {
   "cell_type": "code",
   "execution_count": 97,
   "metadata": {},
   "outputs": [],
   "source": [
    "fin_df\n",
    "\n",
    "temp_drugs = []\n",
    "temp_vector = []\n",
    "temp_drugs_no = []\n",
    "\n",
    "for each in fin_df.values:\n",
    "    drug = each[1]\n",
    "    vector = [int(num) for num in str(each[2]).replace('[', '').replace(']', '').split(', ')]\n",
    "    temp_drugs.append(drug)\n",
    "    temp_vector.append(vector)\n",
    "    temp_drugs_no.append(drug_dict[drug])\n",
    "\n",
    "t = pd.DataFrame(temp_vector)\n",
    "t.columns = [f'c{i}' for i in range(1, len(temp_vector[0])+1)]\n",
    "t['drugs'] = pd.DataFrame(temp_drugs)\n",
    "t['drugsNo'] = pd.DataFrame(temp_drugs_no)\n",
    "t = t.sort_values('drugsNo')\n",
    "t.index = t.drugsNo\n",
    "final_fin_df = t.copy(deep=True)"
   ]
  },
  {
   "cell_type": "markdown",
   "metadata": {},
   "source": [
    "## loading nodes with onehot target features"
   ]
  },
  {
   "cell_type": "code",
   "execution_count": 119,
   "metadata": {},
   "outputs": [
    {
     "name": "stderr",
     "output_type": "stream",
     "text": [
      "/tmp/ipykernel_51647/2833575036.py:17: FutureWarning: In a future version of pandas all arguments of DataFrame.drop except for the argument 'labels' will be keyword-only.\n",
      "  t = t.drop('DCC_ID', 1)\n"
     ]
    }
   ],
   "source": [
    "dt_df\n",
    "\n",
    "temp_drugs = []\n",
    "temp_vector = []\n",
    "temp_drugs_no = []\n",
    "\n",
    "t = dt_df.copy(deep=True)\n",
    "\n",
    "for each in t.values:\n",
    "    drug = each[0]\n",
    "    if drug not in drug_list:\n",
    "        continue\n",
    "    temp_drugs_no.append(drug_dict[drug])\n",
    "    temp_drugs.append(drug)\n",
    "\n",
    "\n",
    "t = t.drop('DCC_ID', 1)\n",
    "t['drugs'] = pd.DataFrame(temp_drugs)\n",
    "t['drugsNo'] = pd.DataFrame(temp_drugs_no)\n",
    "t = t.sort_values('drugsNo')\n",
    "t.index = t.drugsNo\n",
    "\n",
    "final_dt_df = t.copy(deep=True)"
   ]
  },
  {
   "cell_type": "markdown",
   "metadata": {},
   "source": [
    "## loading node with sideEffect features"
   ]
  },
  {
   "cell_type": "code",
   "execution_count": 120,
   "metadata": {},
   "outputs": [
    {
     "name": "stderr",
     "output_type": "stream",
     "text": [
      "/tmp/ipykernel_51647/582483533.py:14: FutureWarning: In a future version of pandas all arguments of DataFrame.drop except for the argument 'labels' will be keyword-only.\n",
      "  t = t.drop('DCC_ID', 1)\n"
     ]
    }
   ],
   "source": [
    "temp_drugs = []\n",
    "temp_vector = []\n",
    "temp_drugs_no = []\n",
    "\n",
    "t = se_df.copy(deep=True)\n",
    "\n",
    "for each in t.values:\n",
    "    drug = each[0]\n",
    "    if drug not in drug_list:\n",
    "        continue\n",
    "    temp_drugs_no.append(drug_dict[drug])\n",
    "    temp_drugs.append(drug)\n",
    "\n",
    "t = t.drop('DCC_ID', 1)\n",
    "t['drugs'] = pd.DataFrame(temp_drugs)\n",
    "t['drugsNo'] = pd.DataFrame(temp_drugs_no)\n",
    "t = t.sort_values('drugsNo')\n",
    "t.index = t.drugsNo\n",
    "\n",
    "final_se_df = t.copy(deep=True)"
   ]
  },
  {
   "cell_type": "markdown",
   "metadata": {},
   "source": [
    "## loading nodes with indications features"
   ]
  },
  {
   "cell_type": "code",
   "execution_count": 124,
   "metadata": {},
   "outputs": [
    {
     "name": "stderr",
     "output_type": "stream",
     "text": [
      "/tmp/ipykernel_51647/2252570221.py:14: FutureWarning: In a future version of pandas all arguments of DataFrame.drop except for the argument 'labels' will be keyword-only.\n",
      "  t = t.drop('DCC_ID', 1)\n"
     ]
    }
   ],
   "source": [
    "temp_drugs = []\n",
    "temp_vector = []\n",
    "temp_drugs_no = []\n",
    "\n",
    "t = in_df.copy(deep=True)\n",
    "\n",
    "for each in t.values:\n",
    "    drug = each[0]\n",
    "    if drug not in drug_list:\n",
    "        continue\n",
    "    temp_drugs_no.append(drug_dict[drug])\n",
    "    temp_drugs.append(drug)\n",
    "\n",
    "t = t.drop('DCC_ID', 1)\n",
    "t['drugs'] = pd.DataFrame(temp_drugs)\n",
    "t['drugsNo'] = pd.DataFrame(temp_drugs_no)\n",
    "t = t.sort_values('drugsNo')\n",
    "t.index = t.drugsNo\n",
    "\n",
    "final_in_df = t.copy(deep=True)"
   ]
  },
  {
   "cell_type": "markdown",
   "metadata": {},
   "source": [
    "## temp"
   ]
  },
  {
   "cell_type": "code",
   "execution_count": null,
   "metadata": {},
   "outputs": [],
   "source": []
  }
 ],
 "metadata": {
  "interpreter": {
   "hash": "f51edbcfed46dde0fadb0d95ca63501d46d8e67bef8440c64e8d20599c465dc9"
  },
  "kernelspec": {
   "display_name": "Python 3.8.12 ('pyg')",
   "language": "python",
   "name": "python3"
  },
  "language_info": {
   "codemirror_mode": {
    "name": "ipython",
    "version": 3
   },
   "file_extension": ".py",
   "mimetype": "text/x-python",
   "name": "python",
   "nbconvert_exporter": "python",
   "pygments_lexer": "ipython3",
   "version": "3.8.12"
  },
  "orig_nbformat": 4
 },
 "nbformat": 4,
 "nbformat_minor": 2
}
